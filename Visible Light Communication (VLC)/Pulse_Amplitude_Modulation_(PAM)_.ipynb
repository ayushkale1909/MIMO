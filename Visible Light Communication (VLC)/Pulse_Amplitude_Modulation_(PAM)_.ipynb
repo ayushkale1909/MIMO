{
  "nbformat": 4,
  "nbformat_minor": 0,
  "metadata": {
    "colab": {
      "provenance": []
    },
    "kernelspec": {
      "name": "python3",
      "display_name": "Python 3"
    },
    "language_info": {
      "name": "python"
    }
  },
  "cells": [
    {
      "cell_type": "code",
      "execution_count": 1,
      "metadata": {
        "colab": {
          "base_uri": "https://localhost:8080/",
          "height": 445
        },
        "id": "NPfDmwtMi7ri",
        "outputId": "172db1f2-14ad-4dcf-9fe1-d6bdc0f0aa7b"
      },
      "outputs": [
        {
          "output_type": "display_data",
          "data": {
            "text/plain": [
              "<Figure size 1000x500 with 1 Axes>"
            ],
            "image/png": "[encoded data removed]"
          },
          "metadata": {}
        }
      ],
      "source": [
        "import numpy as np\n",
        "import matplotlib.pyplot as plt\n",
        "\n",
        "# Binary Data\n",
        "data = np.array([0, 1, 0, 1, 1, 0, 1])\n",
        "\n",
        "# Parameters\n",
        "num_bits = len(data)  # Number of bits\n",
        "Ts = 1  # Symbol period\n",
        "Fs = 100  # Sampling frequency \n",
        "t = np.linspace(0, Ts, Fs, endpoint=False)  # Time\n",
        "\n",
        "# PAM Modulation\n",
        "pam = np.zeros((num_bits, Fs))  # Initialize PAM signal\n",
        "for i in range(num_bits):\n",
        "    if data[i] == 1:\n",
        "        pam[i, :] = 1  # If bit is 1, whole symbol period is 1\n",
        "    else:\n",
        "        pam[i, :] = -1  # If bit is 0, whole symbol period is -1\n",
        "\n",
        "# Plot\n",
        "plt.figure(figsize=(10,5))\n",
        "plt.plot(pam.flatten(), 'b')\n",
        "plt.yticks([-1, 1], ['0', '1'])\n",
        "plt.grid(True)\n",
        "plt.show()\n"
      ]
    },
    {
      "cell_type": "code",
      "source": [
        "# PAM Demodulation\n",
        "demodulated_data = np.zeros(num_bits)\n",
        "for i in range(num_bits):\n",
        "    if np.mean(pam[i, :]) > 0:\n",
        "        demodulated_data[i] = 1\n",
        "    else:\n",
        "        demodulated_data[i] = 0\n",
        "\n",
        "# Results\n",
        "print('Original Data: ', data)\n",
        "print('Demodulated Data: ', demodulated_data)\n"
      ],
      "metadata": {
        "colab": {
          "base_uri": "https://localhost:8080/"
        },
        "id": "p6xXbka7i9cu",
        "outputId": "39cee126-eae0-4a5d-fe3d-0f8100e836ac"
      },
      "execution_count": 2,
      "outputs": [
        {
          "output_type": "stream",
          "name": "stdout",
          "text": [
            "Original Data:  [0 1 0 1 1 0 1]\n",
            "Demodulated Data:  [0. 1. 0. 1. 1. 0. 1.]\n"
          ]
        }
      ]
    }
  ]
}