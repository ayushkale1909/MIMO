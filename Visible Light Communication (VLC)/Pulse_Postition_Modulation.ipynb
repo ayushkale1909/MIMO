{
  "nbformat": 4,
  "nbformat_minor": 0,
  "metadata": {
    "colab": {
      "provenance": []
    },
    "kernelspec": {
      "name": "python3",
      "display_name": "Python 3"
    },
    "language_info": {
      "name": "python"
    }
  },
  "cells": [
    {
      "cell_type": "code",
      "execution_count": 2,
      "metadata": {
        "colab": {
          "base_uri": "https://localhost:8080/",
          "height": 445
        },
        "id": "SgODtTzZgchR",
        "outputId": "2b0de68a-babd-41b5-9533-9d141090fe26"
      },
      "outputs": [
        {
          "output_type": "display_data",
          "data": {
            "text/plain": [
              "<Figure size 1000x500 with 1 Axes>"
            ],
            "image/png": "[encoded data removed]"
          },
          "metadata": {}
        }
      ],
      "source": [
        "import numpy as np\n",
        "import matplotlib.pyplot as plt\n",
        "\n",
        "# Binary Data\n",
        "data = np.array([0, 1, 0, 1, 1, 0, 1])\n",
        "\n",
        "# Parameters\n",
        "num_bits = len(data)  # Number of bits\n",
        "Ts = 1  # Symbol period\n",
        "Fs = 100  # Sampling frequency \n",
        "t = np.linspace(0, Ts, Fs, endpoint=False)  # Time\n",
        "\n",
        "# PPM Modulation\n",
        "ppm = np.zeros((num_bits, Fs))  # Initialization\n",
        "for i in range(num_bits):\n",
        "    if data[i] == 1:\n",
        "        ppm[i, int(Fs/4):int(Fs/2)] = 1  # If value is 1, place pulse in first half of period\n",
        "\n",
        "# Plot\n",
        "plt.figure(figsize=(10,5))\n",
        "plt.plot(ppm.flatten(), 'b')\n",
        "plt.yticks([0, 1], ['0', '1'])\n",
        "plt.grid(True)\n",
        "plt.show()\n",
        "\n"
      ]
    },
    {
      "cell_type": "code",
      "source": [
        "# PPM Demodulation\n",
        "demodulated_data = np.zeros(num_bits)\n",
        "for i in range(num_bits):\n",
        "    if np.sum(ppm[i, int(Fs/4):int(Fs/2)]) > 0:\n",
        "        demodulated_data[i] = 1\n",
        "    else:\n",
        "        demodulated_data[i] = 0\n",
        "\n",
        "# Print Results\n",
        "print('Original Data: ', data)\n",
        "print('Demodulated Data: ', demodulated_data)\n"
      ],
      "metadata": {
        "colab": {
          "base_uri": "https://localhost:8080/"
        },
        "id": "T6ynOQLggdqN",
        "outputId": "6bed474b-917f-4ce9-ca51-9a9168af9c0d"
      },
      "execution_count": 3,
      "outputs": [
        {
          "output_type": "stream",
          "name": "stdout",
          "text": [
            "Original Data:  [0 1 0 1 1 0 1]\n",
            "Demodulated Data:  [0. 1. 0. 1. 1. 0. 1.]\n"
          ]
        }
      ]
    }
  ]
}